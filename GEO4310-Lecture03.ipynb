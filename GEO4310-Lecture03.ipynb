{
 "cells": [
  {
   "cell_type": "markdown",
   "metadata": {},
   "source": [
    "## Lecture 3: Discrete Distributions"
   ]
  },
  {
   "cell_type": "markdown",
   "metadata": {},
   "source": [
    "\n",
    "\n",
    "*Outline for the day*\n",
    "\n",
    "* Review Lecture 2\n",
    "* Discrete Distributions in Earth Sciences\n",
    "    - Hypergeometric distribution\n",
    "    - Bernoulli Trials (Binomial distribution & Geometric distribution & Negative Binomial distribution)\n",
    "    - Poisson Process and distribution\n",
    "* Wrap-up review\n"
   ]
  },
  {
   "cell_type": "markdown",
   "metadata": {},
   "source": [
    "Review of Lecture 2: Main Descriptors of Random Variables\n",
    "-------------------------------------------------------------\n",
    "\n",
    "The $p.m.f.$ and $c.d.f.$ provide useful tools for describing the\n",
    "probability properties of a random variable, however, there are some\n",
    "general characteristics that are also of interest. These include:\n",
    "\n",
    "-   the *central* or *Expected Value*\n",
    "-   the *Variance*\n",
    "\n",
    "**keep in mind that two random variables may have the\n",
    "same mean, median, or otherwise, but their probability distributions may\n",
    "be quite different.**\n",
    "\n",
    "### Expected Value of a Random Variable\n",
    "\n",
    "#### Discrete Case & Continuous Case\n",
    "\n",
    "The expected value, expectation, or mean of a *discrete* random variable with a\n",
    "**probability mass function**, $ P(X = x_i ) = p_i$ is:\n",
    "\n",
    "$$E(X) = \\sum_x {p_i  x_i}$$\n",
    "\n",
    "For the *continuous* case, the expected value is simply the integral of\n",
    "the $p.d.f.$:\n",
    "\n",
    "$$E(X) = \\int_{-\\infty}^\\infty {x \\cdot f(x)dx}$$\n",
    "\n",
    "Some notes for when we cover the *Method of Moments* - The expected\n",
    "value of $(x- \\mu)^i$ is equal to the $i^{th}$ central moment\n",
    "$E[(x- \\mu)^i ] = μ_i$ ; later on we will show that when $i = 2$, $μ_i$\n",
    "is the variance.\n",
    "\n",
    "-   The expected value of $x^i$ is equal to the $i^{ th}$ moment about\n",
    "    origin $E[x^i ] = μ_i$\n",
    "\n",
    "### Measures of Central Tendency\n",
    "\n",
    "* Arithmatic Mean\n",
    "* Geometric Mean\n",
    "* Weighted Mean\n",
    "* Median\n",
    "* Mode\n",
    "\n",
    "### Measures of Dispersion\n",
    "\n",
    "* Range\n",
    "* Variance\n",
    "\n",
    "Variance provides a more robust measure of the variability of a\n",
    "population. The variance is a non-negative number given us insight into\n",
    "how widely distributed the values of the random variable are likely to\n",
    "be. If we have very high variance, it decreases the 'chance' that we\n",
    "will draw the central value. In other words, the $x_i$ are more\n",
    "scattered within the the distribution. Think of *Variance* \\~\n",
    "*variability*. We symbolize variance with $Var(X) \\ or \\ V(X)$ or\n",
    "$\\sigma^2$\n",
    "\n",
    "$$V(X) = \\sigma^2 = E[X-E(X)]^2 = E(x-\\mu)^2 = \\int (x-\\mu)^2 f(x)dx$$\n",
    "\n",
    "Note that the variance is also the **second central moment** or , $u_2$.\n",
    "\n",
    "* Coefficient of Variation\n",
    "\n",
    "### Measures of Symmetry\n",
    "\n",
    "* Skewness\n",
    "* Kurtosis\n"
   ]
  },
  {
   "cell_type": "markdown",
   "metadata": {},
   "source": [
    "Lecture 3: Discrete Distributions\n",
    "-------------------------------------------------------------\n",
    "\n",
    "What is it that we are trying to accomplish with the *Descriptors of a Random Variable*? You may have a variable in your model for which you don't have actual data and cannot derive from first principles (e.g. physical processes). It may be that our variable would be too complex to model, or we simply don't have a model for it. Hopefully, however, you have some information on this variable, and perhaps that comes in the form of a *distribution*. The *distribution* then, is simply the description of the probability of observation for that variable.\n",
    "\n",
    "There are some distributions that are well known and used often to help us describe a random variable of interest. The usefulness of the distribution stems from the following reasons: (1) The function is the result of an underlying physical process and is derived on the basis of certain physically reasonable assumptions; (2) the function is the result of some limiting process; and (3) it is widely known and the necessary statistical information is available.\n",
    "\n",
    "In prior days, before we all had access to computers, these distributions were analytically derived and calculated and the resulting probabilities were made available in the form of tables (yes, like on paper...). These tables were used in calculations -- given a look-up value, one could go to a probability table and find the statistics that were relevant for that value.\n",
    "\n",
    "Today, we rely on computers. Let's take a look...\n"
   ]
  },
  {
   "cell_type": "markdown",
   "metadata": {},
   "source": [
    "## Hypergeometric distribution\n",
    "\n",
    "We use the hypergeometric function when selecting values from a finite population with binary values (for example \"good\" and \"bad\").\n",
    "\n",
    "The hypergeometric distribution is drawing objects from a bin of $M$ elements.\n",
    "$M$ is the total number of objects, $n$ is total number of Type I objects in the bin, or you could think of objects with a certain property -- say blue eyes vs. brown eyes. The random variate, $k$ represents the number of Type I objects in $N$ samples drawn without replacement from the total population.\n",
    "\n",
    "\n",
    "The probability mass function is defined as:\n",
    "\n",
    "$$f_x(k; M,N,n) = {\\binom n k \\binom{M-n}{N-k} \\over \\binom M N }$$\n",
    "\n",
    "\n",
    "The cumulative distribution function that is defined as:\n",
    "\n",
    "$$F_x(k; M,N,n) ={ \\sum_{i=0}^k \\binom n i \\binom{M-n}{N-i}\\over\\binom M N }$$\n",
    "\n",
    "\n",
    "The $E(x)$, or **expected value** is given by:\n",
    "\n",
    "$$ E(x) = {n \\cdot k\\over N}$$\n",
    "\n",
    "\n",
    "The **variance** is given by:\n",
    "\n",
    "$$Var(x) ={ n \\cdot k(N-k)(N-n)\\over N^2 \\cdot (N-1)}$$\n",
    "\n",
    "\n",
    "### Note\n",
    "\n",
    "The symbols used to denote the shape parameters (`M`, `n`, and `N`) are not\n",
    "universally accepted, and even different in the course compendium.  See the Examples for a clarification of the\n",
    "definitions used here.\n",
    "  \n",
    "The probability mass function is defined for\n",
    "\n",
    "$$k \\in [\\max(0, N - M + n), \\min(n, N)]$$\n",
    "\n",
    "where the binomial coefficients are defined as,\n",
    "\n",
    "$$ \\binom{n}{k} \\equiv \\frac{n!}{k! (n - k)!}$$\n",
    "\n",
    "Let's look at an example.\n"
   ]
  },
  {
   "cell_type": "code",
   "execution_count": 3,
   "metadata": {
    "collapsed": true
   },
   "outputs": [],
   "source": [
    "%matplotlib inline\n",
    "import numpy as np\n",
    "import matplotlib.pyplot as plt\n",
    "from scipy.stats import hypergeom\n",
    "# print(help(hypergeom))"
   ]
  },
  {
   "cell_type": "markdown",
   "metadata": {},
   "source": [
    "We are considering the following:\n",
    "\n",
    "Assumptions for hypergeometric distribution | \n",
    "------------ |\n",
    "1. There is a population of $M$ items divided into two groups (blue or brown), $n$ of which are belonging to one group (blue) and $M-n$ belong to the other group (brown).|\n",
    "2. A random sample (without replacement) of $N$ items is taken from the $M$ items.|\n",
    "3. Probability of getting $x$ successes (blue eyes) in $N$ trials; which is given by $f_x(x; M, N, n)$|\n",
    "\n",
    "### Rainy days in Uppsala\n",
    "*Note this is compendium example 3.1*\n",
    "\n",
    "Historical data show that there are 10 rainy days in June in Uppsala. Assume the rainy days are independent (*is this a fair assumption?*). You want to go to the field for a week to measure rainfall intensity.\n",
    "\n",
    "a. What is the probability of 4 rainy days in 7 randomly selected days in June?\n",
    "b. What is the probability that less than 4 of these randomly selected days are rainy?\n",
    "\n",
    "**Solution**"
   ]
  },
  {
   "cell_type": "code",
   "execution_count": 71,
   "metadata": {},
   "outputs": [
    {
     "name": "stdout",
     "output_type": "stream",
     "text": [
      "0.11759504863\n"
     ]
    },
    {
     "data": {
      "image/png": "[encoded data removed]",
      "text/plain": [
       "<matplotlib.figure.Figure at 0x7f8d79e1ad30>"
      ]
     },
     "metadata": {},
     "output_type": "display_data"
    }
   ],
   "source": [
    "[M, n, N] = [30, 10, 7]\n",
    "\n",
    "rv = hypergeom(M, n, N)\n",
    "x = np.arange(0, n+1)\n",
    "f_x = rv.pmf\n",
    "\n",
    "fig = plt.figure()\n",
    "ax = fig.add_subplot(111)\n",
    "ax.plot(x, f_x(x), 'bo')\n",
    "ax.vlines(x, 0, f_x(x), lw=2)\n",
    "ax.set_xlabel('# of rainy days in the month')\n",
    "ax.set_ylabel('hypergeom PMF')\n",
    "\n",
    "print(f_x(4))"
   ]
  },
  {
   "cell_type": "code",
   "execution_count": 72,
   "metadata": {},
   "outputs": [
    {
     "name": "stdout",
     "output_type": "stream",
     "text": [
      "0.856763925729\n"
     ]
    },
    {
     "data": {
      "image/png": "[encoded data removed]",
      "text/plain": [
       "<matplotlib.figure.Figure at 0x7f8d79853b00>"
      ]
     },
     "metadata": {},
     "output_type": "display_data"
    }
   ],
   "source": [
    "#let's look at case b... cumulative distribution.\n",
    "\n",
    "F_x = rv.cdf\n",
    "fig = plt.figure()\n",
    "ax = fig.add_subplot(111)\n",
    "ax.plot(x, F_x(x), 'bo')\n",
    "ax.vlines(x, 0, F_x(x), lw=2)\n",
    "ax.set_xlabel('# of rainy days in the month')\n",
    "ax.set_ylabel('hypergeom CDF')\n",
    "\n",
    "# Note that we asked, **less than 4**, so we have to look at the CDF=3\n",
    "print(F_x(3))"
   ]
  },
  {
   "cell_type": "markdown",
   "metadata": {},
   "source": [
    "#### Notes on a stackexchange discussion\n",
    "\n",
    "Below is taken from:\n",
    "\n",
    "http://stackoverflow.com/questions/11286430/drawing-cards-from-a-deck-in-scipy-with-scipy-stats-hypergeom"
   ]
  },
  {
   "cell_type": "code",
   "execution_count": 6,
   "metadata": {
    "collapsed": true,
    "scrolled": true
   },
   "outputs": [],
   "source": [
    "\"\"\"    scipy.stats.hypergeom.pmf(k, M, n, N)\n",
    "\n",
    "returns the probability that: from M cards, n of which are marked, if you randomly choose N cards without replacement, exactly k cards will be marked.\n",
    "\n",
    "So you can get your desired answer (using your variable-names) by\n",
    "\"\"\"\n",
    "def pick_Q(N, M, Q):\n",
    "    \"\"\"\n",
    "    Given a deck of N cards, where M are marked,\n",
    "    and Q cards are taken randomly without replacement,\n",
    "    return the probability that at least one marked card is taken.\n",
    "    \"\"\"\n",
    "    return sum(scipy.stats.hypergeom.pmf(k, N, M, Q) for k in xrange(1,Q+1))\n",
    "\n",
    "\"\"\"\n",
    "(the sum of the odds that 1 card is marked, 2 cards are marked, 3 cards are marked... N cards are marked).\n",
    "\n",
    "Luckily, there is a quicker way - the probability that at least one marked card is taken is the flip side of the probability that no marked card is picked. So instead you can do\n",
    "\"\"\"\n",
    "def pick_Q(N, M, Q):\n",
    "    \"\"\"\n",
    "    Given a deck of N cards, where M are marked,\n",
    "    and Q cards are taken randomly without replacement,\n",
    "    return the probability that at least one marked card is taken.\n",
    "    \"\"\"\n",
    "    return 1. - scipy.stats.hypergeom.pmf(0, N, M, Q)\n",
    "\n",
    "\"\"\"\n",
    "For your second question, there don't appear to be any functions that do what you want; however, you can start with\n",
    "\"\"\"\n",
    "def how_many_to_pick(N, M, prob):\n",
    "    \"\"\"\n",
    "    Given a deck of N cards, M of which are marked,\n",
    "    how many do you have to pick randomly without replacement\n",
    "    to have at least prob probability of picking at least one marked card?\n",
    "    \"\"\"\n",
    "    for q in xrange(1, M+1):\n",
    "        if pick_Q(N, M, q) >= prob:\n",
    "            return q\n",
    "    raise ValueError(\"Could not find a value for q\")\n",
    "\n"
   ]
  },
  {
   "cell_type": "markdown",
   "metadata": {},
   "source": [
    "**Edit:**\n",
    "\n",
    "    scipy.stats.hypergeom.cdf(k, M, n, N)\n",
    "\n",
    "Given a deck of M cards, n of which are marked, picking N randomly without replacement, find the odds that *k or fewer* marked cards are picked. (You can think of this as the integral of .pmf)\n",
    "\n",
    "Then .sf(k, M, n, N) is the flip side of .cdf - the odds that *more than k* marked cards were picked.\n",
    "\n",
    "For example,\n",
    "\n",
    "     k      pmf(k,52,13,4)   cdf(k,52,13,4)   sf(k,52,13,4)\n",
    "         (exactly k picked)  ( <= k picked)   ( > k picked)\n",
    "    ---  -----------------  ---------------  --------------\n",
    "     0       0.303817527      0.303817527      0.696182473\n",
    "     1       0.438847539      0.742665066      0.257334934\n",
    "     2       0.213493397      0.956158463      0.043841537\n",
    "     3       0.041200480      0.997358944      0.002641056\n",
    "     4       0.002641056      1.000000000      0.000000000\n",
    "\n",
    "**Edit2:**\n",
    "\n",
    "actually, this gives another way of writing the pick_Q function - 'picking 1 or more marked cards' can be rephrased as 'picking more than 0 marked cards', so\n",
    "\n"
   ]
  },
  {
   "cell_type": "code",
   "execution_count": 7,
   "metadata": {
    "collapsed": true
   },
   "outputs": [],
   "source": [
    "def pick_Q(N, M, Q):\n",
    "    \"\"\"\n",
    "    Given a deck of N cards, where M are marked,\n",
    "    and Q cards are taken randomly without replacement,\n",
    "    return the probability that at least one marked card is taken.\n",
    "    \"\"\"\n",
    "    return scipy.stats.hypergeom.sf(0, N, M, Q)"
   ]
  },
  {
   "cell_type": "markdown",
   "metadata": {},
   "source": [
    "## Bernoulli Trials\n",
    "\n",
    "When we are considering events that *may* or *may not* occur, such as, for example, the annual maximum flow of a river exceeding a certain specified flood level, then we can consider the number of events in the sequence *trials*. In general, there will be only two outcomes, and we consider this a Bernoulli Process.\n",
    "\n",
    "Note that if we consider the exceedence of a flood level, we are considering *the maximum discharge over the year* against the specific level. That is, our trial occurrs once per year and we are going to ask, \"What is the probability of the maximum discharge for the year exceeding the flood level?\". We are not considering whether at any time, the river will exceed the specified level -- this is a different question.\n",
    "\n",
    "Our **Bernoulli sequence** is a model that is based on the following assumptions:\n",
    "\n",
    "1. Each trial has only two possible outcomes: the *occurrence* or *non-occurrence* of an event.\n",
    "2. The probability of occurrence of the event in each trial is constant.\n",
    "3. The trials are statistically independent.\n",
    "\n",
    "In our example, we're assuming then that the likelyhood of the river's maximum discharge exceeding the specified flood level from one year to the next is independent, and each year the probability of exceeding the flood level is constant, then *the annual maximum floods over a series of years* constitutes a *Bernoulli sequence*.\n",
    "\n",
    "There are a few distributions that we use to work with the Bernoulli sequence. The main ones are the **binomial** distribution, the **geometric** distribution, and the **negative binomial** distribution. To understand how these are used, it is best to understand the underlying assumptions for each type of distribution.\n",
    "\n",
    "### Binomial distribution\n",
    "The *Bernoulli sequence*, named after [James Bernoulli](https://en.wikipedia.org/wiki/Jacob_Bernoulli) is one of the simplest but most important random processes in probability.\n",
    "\n",
    "Assumptions for binomial distribution | \n",
    "------------ |\n",
    "1. There are n trials, each classifiable as 'success' or 'failure' |\n",
    "2. The trials are independent (draw a sample *with* replacement, __which is different from hypergeometric__) |\n",
    "3. Probability of getting $x$ successes (elements with property $k$) is $n$ trials? |\n",
    "\n",
    "**Note: our notebooks are currently unable to render the math code below, see the compendium**\n",
    "\n",
    "The $p.m.f.$ has the general form:\n",
    "\n",
    "$$f_x(k; n, p) = \\binom n k p^k q^{n-k}$$\n",
    "\n",
    "Where $k$ is the number of successes, $n$ is the number of trials, and $p$ is the probability of one success. \n",
    "\n",
    "The $c.d.f.$ has the form:\n",
    "    \n",
    "$$F_x(k; n,p) = \\sum_{i=0}^k \\binom n i p^i q^{n-i}$$\n",
    "    \n",
    "The $E(x)$ is given by:\n",
    "\n",
    "$$ E(x) = np$$\n",
    "\n",
    "and:\n",
    "\n",
    "$$Var(x) =npq$$\n",
    "\n",
    "We can also calculate a **coefficient of skewness**:\n",
    "\n",
    "$$\\gamma_x = {p-q\\over \\sqrt{npq}}$$\n",
    "\n",
    "\n",
    "### Examples\n"
   ]
  },
  {
   "cell_type": "markdown",
   "metadata": {},
   "source": [
    "### Runoff Exceedence\n",
    "*Note this is compendium example 3.5*\n",
    "\n",
    "The probability of runoff exceeding a certain limit for any given year is $p$. Suppose the exceedance of runoff in any year is independent.\n",
    "\n",
    "a. What is the probability the runoff will exceed this limit once in three years?\n",
    "\n",
    "**Solution**\n",
    "\n",
    "This is an analytical question, as you would require the value of $p$ the calculate it. So, let's take a look at the analytical solution:\n",
    "\n",
    "Let $q=1-p$ be the probability of runoff **not** exceeding its limit in a year.\n",
    "\n",
    "Also, let's look back at keywords in the question, \"**once in three years**\". So, there we've already established that this 'event' is only going to happen one time. \n",
    "Then we have three possible arrangements that give us probabilities of events\n",
    "\n",
    "$pqq$ (exceed in year 1), $qpq$ (exceed in year 2), and $qqp$ (exceed in year three)\n",
    "\n",
    "Now recall, from Lecture 1 that the joint probability of three independent events is simply $P(A \\cup B \\cup C) = P(A) + P(B) + P(C)$, since in any one year the maximum discharge can exceed ($p$) or *not exceed* ($q$) the flood limit.\n",
    "\n",
    "Let's call event a, the probability of exceeding one time in 3 years. Then we have:\n",
    "$$P(a) = pqq + qpq + qqp = 3pq^2$$\n",
    "\n",
    "A more general form:\n",
    "\n",
    "$$P(a) = \\binom 3 1 p^1 q^{3-1} = {3!\\over1!(3-1)!} p^1q^2 $$\n",
    "\n",
    "\n",
    "### Balls in a box\n",
    "*Note this is compendium example 3.6*\n",
    "\n",
    "A box contains 1000 balls, of which 200 are red balls. Let's perform an experiment in such a way that each time a ball is taken from the box in random, its color is observed and then the ball is put back (*replacement!*). What is the probability of getting 10 red balls in the 100 trials?\n",
    "\n",
    "**Solution**\n",
    "\n",
    "Okay, in this case we have some numbers to play with...."
   ]
  },
  {
   "cell_type": "code",
   "execution_count": 14,
   "metadata": {},
   "outputs": [
    {
     "name": "stdout",
     "output_type": "stream",
     "text": [
      "0.00336281996958\n"
     ]
    },
    {
     "data": {
      "text/plain": [
       "<matplotlib.collections.LineCollection at 0x7f8d79e93588>"
      ]
     },
     "execution_count": 14,
     "metadata": {},
     "output_type": "execute_result"
    },
    {
     "data": {
      "image/png": "[encoded data removed]",
      "text/plain": [
       "<matplotlib.figure.Figure at 0x7f8d7a043dd8>"
      ]
     },
     "metadata": {},
     "output_type": "display_data"
    }
   ],
   "source": [
    "from scipy.stats import binom\n",
    "\n",
    "#Note the probability mass function for the binomial distribution\n",
    "#is defined in the \"standardized\" form, see docs for more details.\n",
    "\n",
    "n, p = 100, 200/1000.\n",
    "x = 10\n",
    "\n",
    "f_x = binom(n, p).pmf\n",
    "\n",
    "print(f_x(x))\n",
    "\n",
    "# let's look a bit closer\n",
    "\n",
    "X = np.arange(binom.ppf(.1, n, p), binom.ppf(1, n, p))\n",
    "#X = np.arange(0,100)\n",
    "fig = plt.figure()\n",
    "ax = fig.add_subplot(111)\n",
    "ax.plot(X, f_x(X), 'bo', ms=4, label='binom pmf')\n",
    "\n",
    "ax.vlines(X, 0, f_x(X), colors='b', lw=3, alpha=0.5)"
   ]
  },
  {
   "cell_type": "markdown",
   "metadata": {},
   "source": [
    "### Hypergeometric and the Binomial\n",
    "\n",
    "The hypergeometric and binomial distributions have similiarities, and in fact the binomial may be used to approximate the hypergeometric if $N$, sample size, is small compared with $M$ (population). Let's evaluate an example where $N << M$:"
   ]
  },
  {
   "cell_type": "code",
   "execution_count": 26,
   "metadata": {},
   "outputs": [
    {
     "data": {
      "text/plain": [
       "<matplotlib.legend.Legend at 0x7f8d796de3c8>"
      ]
     },
     "execution_count": 26,
     "metadata": {},
     "output_type": "execute_result"
    },
    {
     "data": {
      "image/png": "[encoded data removed]",
      "text/plain": [
       "<matplotlib.figure.Figure at 0x7f8dacfa70b8>"
      ]
     },
     "metadata": {},
     "output_type": "display_data"
    }
   ],
   "source": [
    "# Example 3.8 in compendium\n",
    "M, N, n = 40, 5, 10.\n",
    "p = n/M\n",
    "X = np.arange(6) \n",
    "\n",
    "f_binom = binom(N, p).pmf\n",
    "f_hypg = hypergeom(M, n, N).pmf\n",
    "\n",
    "fig = plt.figure()\n",
    "ax = fig.add_subplot(111)\n",
    "#X = np.arange(binom.ppf(.1, n, p), binom.ppf(1, n, p))\n",
    "ax.plot(X, f_binom(X), 'bo', label='binomial')\n",
    "ax.vlines(X, 0, f_binom(X), lw=2)\n",
    "\n",
    "ax.plot(X, f_hypg(X), 'gx', markersize=10, label='hypergeometric')\n",
    "ax.set_xlabel('# observations')\n",
    "ax.set_ylabel('hypergeom/binom PMF')\n",
    "plt.legend()"
   ]
  },
  {
   "cell_type": "markdown",
   "metadata": {},
   "source": [
    "### Geometric distribution\n",
    "\n",
    "We use the geometric distribution when we are interested in the probability of **first** success. Or more generally, we want to know the distribution that governs the number of trials until a 'success' -- or *occurrence* -- happens for the first time. For the *Bernoulli sequence* this is governed by a **geometric distribution**. We will observe that the first occirrence of the event is realized on th $x^th$ trial, then there must be **no** occurrence of this event in any of the prior $(x-1)$ trials. In this case, $X$ is our *random variable*.\n",
    "\n",
    "$$P(X = x) = pq^{x-1} ; \\forall x = 1, 2, 3, ... $$\n",
    "\n",
    "\n",
    "Assumptions for geometric distribution | \n",
    "------------ |\n",
    "1. There are n trials, each classifiable as 'success' or 'failure' |\n",
    "2. The trials are independent (draw a sample *with* replacement, __which is different from hypergeometric__) |\n",
    "3. Probability of the $1^{st}$ success in occurrs on the $x^{th}$ trial? |\n",
    "\n",
    "**Note: the assumptions #1 and #2 are identical to the binomial distribution, but our question is different.**\n",
    "\n",
    "The $p.m.f.$ has the general form:\n",
    "\n",
    "$$f_x(x; p) = pq^{x-1}$$\n",
    "\n",
    "Where $x$ is the trial number and $p$ is the probability of one success. \n",
    "\n",
    "The $E(x)$ is given by:\n",
    "\n",
    "$$ E(x) = 1/p$$\n",
    "\n",
    "and:\n",
    "\n",
    "$$Var(x) =q/p^2$$\n",
    "\n",
    "\n",
    "### Examples\n"
   ]
  },
  {
   "cell_type": "markdown",
   "metadata": {},
   "source": [
    "### A 10-year flood\n",
    "\n",
    "Compare the binomial and geometric solution to evaluating some questions regarding the 10-year flood:\n",
    "\n",
    "a. What is the probability that a 10-year flood will occur once in ten years?\n",
    "*Note there is no matter regarding the sequence timing*, we just want to know **once in ten years**, so we'll use the binomial distribution:\n",
    "\n",
    "$$f_x(x; n,p) = f_x(1, 10, 0.1) = \\binom 10 1 \\cdot 0.1^1 \\cdot 0.9^9$$\n",
    "\n",
    "b. What is the probability that a 10 year flood will occur the first time in the 10th year?\n",
    "*Note, here we have order in the sequence... **first time** is the key word*, so we'll use the geometric distribution:\n",
    "\n",
    "$$f_x(x; p) = pq^{x-1} $$\n"
   ]
  },
  {
   "cell_type": "code",
   "execution_count": 34,
   "metadata": {},
   "outputs": [
    {
     "name": "stdout",
     "output_type": "stream",
     "text": [
      "The probability a 10-year flood will occur once in ten years is   0.3874\n",
      "The probability the first occurrence of a 10-year flood will occur on the 10th year is   0.0387\n"
     ]
    }
   ],
   "source": [
    "from scipy.stats import binom\n",
    "from scipy.stats import geom\n",
    "\n",
    "N = 10.\n",
    "p = 0.1 #ten year flood\n",
    "\n",
    "\n",
    "f_binom = binom(N, p).pmf\n",
    "print(\"\"\"The probability a 10-year flood will occur once in ten years is {0:8.4f}\"\"\".format(f_binom(1)))\n",
    "\n",
    "f_geom = geom(p).pmf\n",
    "print(\"\"\"The probability the first occurrence of a 10-year flood will occur on the 10th year is {0:8.4f}\"\"\".format(f_geom(10)))\n"
   ]
  },
  {
   "cell_type": "markdown",
   "metadata": {},
   "source": [
    "### negative binomial distribution\n",
    "\n",
    "We used the geometric distribution when we are interested in the probability of **first** success. Now we may be interested in the time until a subsequent occurrence of the same event. The probability law governing a Bernoulli sequence that provides this information is the *negative binomial* distribution. That is, if $X_k$ is the number of trials until the $k^{th}$ occurrence of the event in a series of Bernoulli trials, then\n",
    "\n",
    "$$P(X_k = x) = \\binom{x-1}{k-1}p^kq^{x-k} ; \\forall x = k, k+1, ... $$\n",
    "$$P(X_k = x) = 0 ; \\forall x < k$$\n",
    "\n",
    "\n",
    "Assumptions for negative binomial distribution | \n",
    "------------ |\n",
    "1. There are n trials, each classifiable as 'success' or 'failure' |\n",
    "2. The trials are independent (draw a sample *with* replacement, __which is different from hypergeometric__) |\n",
    "3. The probability that the $k^{th}$ success occurs on the $x^{th}$ trial $(x > k)$ is given by the negative binomial distribution? |\n",
    "\n",
    "**Note: the assumptions #1 and #2 are identical to the binomial distribution, but our question is different.**\n",
    "\n",
    "\n",
    "\n",
    "The $p.m.f.$ has the general form:\n",
    "\n",
    "$$f_x(k; n, p) = \\binom{k-1}{k-1}p^kq^{x-k}$$\n",
    "\n",
    "Where $x$ is the trial number and $p$ is the probability of one success, and $k$ is the occurrence number. \n",
    "\n",
    "The $E(x)$ is given by:\n",
    "\n",
    "$$ E(x) = k/p$$\n",
    "\n",
    "and:\n",
    "\n",
    "$$Var(x) =kq/p^2$$\n",
    "\n",
    "\n",
    "### Examples\n"
   ]
  },
  {
   "cell_type": "markdown",
   "metadata": {},
   "source": [
    "### A 10-year flood revisited\n",
    "What is the probability that the $4^{th}$ occurrence of a 10-year flood will occur on the $40^{th}$ year?\n",
    "*Note, here we have order in the sequence... but it is not the **first** year*, so we'll use the negative binomial distribution:\n",
    "\n",
    "$$f_x(40; 4, 0.1) = \\binom{39}{3} 0.1^4 0.9^{36} $$\n"
   ]
  },
  {
   "cell_type": "code",
   "execution_count": 31,
   "metadata": {},
   "outputs": [
    {
     "name": "stdout",
     "output_type": "stream",
     "text": [
      "The probability a 10-year flood will occur the fourth time (4) on the fortieth year is 0.018241087638024612\n"
     ]
    }
   ],
   "source": [
    "from scipy.stats import nbinom\n",
    "\n",
    "N = 4.\n",
    "p = 0.1 #ten year flood\n",
    "\n",
    "\n",
    "f_nbinom = nbinom(N, p).pmf\n",
    "print(\"\"\"The probability a 10-year flood will occur the fourth time (4) on the fortieth year is {}\"\"\".format(f_nbinom(40)))\n",
    "\n"
   ]
  },
  {
   "cell_type": "markdown",
   "metadata": {},
   "source": [
    "### A particular case?\n",
    "\n",
    "One might question whether the geometric is simply a special case of the negative binomial with $N=1$.\n",
    "\n",
    "Let's explore...\n",
    "\n",
    "First, we know the geometric provides: \"The probability the **first** occurrence of a 10-year flood will occur on the 8th year\", where $x=50$ is given by:\n",
    "\n",
    "$$f_x(8; 0.1) = pq^{x-1} = 0.1 \\cdot 0.9^{7}$$\n",
    "\n",
    "\n",
    "Now, if we want the particular case of the negative binomial, for the **first year**:\n",
    "\n",
    "$$f_x(8; 1, 0.1) = \\binom{x-1}{k-1}p^kq^{x-k} = \\binom{7}{0} 0.1^1 0.9^{7} $$\n",
    "\n",
    "Looks like we can expect a pretty similar result! Let's check the code:\n",
    "\n"
   ]
  },
  {
   "cell_type": "code",
   "execution_count": 70,
   "metadata": {},
   "outputs": [
    {
     "name": "stdout",
     "output_type": "stream",
     "text": [
      "The probability from the geometric distribution\n",
      "that the first occurrence of a 10-year flood will occur on the\n",
      "8th year is:\n",
      " 0.04783\n",
      "The probability from the negative binomial that\n",
      "a 10-year flood will occur the first time on the\n",
      "8th year is:\n",
      " 0.04305\n"
     ]
    }
   ],
   "source": [
    "N = 1 # first year\n",
    "p = 0.1 #ten year flood\n",
    "x = 8\n",
    "\n",
    "f_geom = geom(p).pmf\n",
    "print(\"\"\"The probability from the geometric distribution\n",
    "that the first occurrence of a 10-year flood will occur on the\n",
    "8th year is:\n",
    "{0:8.5f}\"\"\".format(f_geom(8)))\n",
    "\n",
    "\n",
    "f_nbinom = nbinom(N, p).pmf\n",
    "print(\"\"\"The probability from the negative binomial that\n",
    "a 10-year flood will occur the first time on the\n",
    "8th year is:\n",
    "{0:8.5f}\"\"\".format(f_nbinom(8)))\n",
    "\n",
    "\n"
   ]
  },
  {
   "cell_type": "markdown",
   "metadata": {},
   "source": [
    "** Are they the same? **\n",
    "\n",
    "We see they are not in fact the same, so what happened?\n",
    "\n",
    "The [documentation for the negative binomial](https://docs.scipy.org/doc/scipy/reference/generated/scipy.stats.nbinom.html) states:\n",
    "\n",
    "> Negative binomial distribution describes a sequence of i.i.d. Bernoulli trials, repeated until a predefined, non-random number of successes occurs.\n",
    "\n",
    "> The probability mass function of the number of _failures_ for nbinom is:\n",
    "\n",
    "    \n",
    "    nbinom.pmf(k) = choose(k+n-1, n-1) * p**n * (1-p)**k\n",
    "\n",
    "\n",
    "The `nbinom` function takes the number of _failures_ as its input, which is one less than the total number of trials i.e. including the successful trial. The geometric distribution, on the other hand, is defined for the total number of trials including the success.\n",
    "\n",
    "Try to run the above code again, but change the negative binomial _k_ value to 7 (e.g. seven non-exceedence years until an exceedence year)."
   ]
  },
  {
   "cell_type": "markdown",
   "metadata": {},
   "source": [
    "## Summary of Discrete Distributions\n",
    "\n",
    "Assumptions for hypergeometric distribution | \n",
    "------------ |\n",
    "1. There is a population of $M$ items divided into two groups (blue or brown), $n$ of which are belonging to one group (blue) and $M-n$ belong to the other group (brown).|\n",
    "2. A random sample (without replacement) of $N$ items is taken from the $M$ items.|\n",
    "3. Probability of getting $x$ successes (blue eyes) in $N$ trials is governed by a *hypergeometric distribution* with a $p.m.f.$: $$f_x(x; M,N,n) = {\\binom n x \\binom{M-n}{N-x} \\over \\binom M N }$$ |\n",
    "\n",
    "\n",
    "\n",
    "\n",
    "Assumptions for binomial distribution | \n",
    "------------ |\n",
    "1. There are n trials, each classifiable as 'success' or 'failure' |\n",
    "2. The trials are independent (draw a sample *with* replacement, __which is different from hypergeometric__) |\n",
    "3. Probability of getting $x$ successes (elements with property $k$) is $n$ trials is governed by the *binomial distribution* with a $p.m.f.$: $$f_x(x; n, p) = \\binom n x p^x q^{n-x}$$ |\n",
    "\n",
    "\n",
    "\n",
    "\n",
    "Assumptions for geometric distribution | \n",
    "------------ |\n",
    "1. There are n trials, each classifiable as 'success' or 'failure' |\n",
    "2. The trials are independent (draw a sample *with* replacement, __which is different from hypergeometric__) |\n",
    "3. Probability of the $1^{st}$ success in occurrs on the $x^{th}$ trial is governed by the *geometric distribution* with a $p.m.f.$: $$f_x(x; p) = pq^{x-1}$$ |\n",
    "\n",
    "\n",
    "\n",
    "\n",
    "Assumptions for negative binomial distribution | \n",
    "------------ |\n",
    "1. There are n trials, each classifiable as 'success' or 'failure' |\n",
    "2. The trials are independent (draw a sample *with* replacement, __which is different from hypergeometric__) |\n",
    "3. The probability that the $k^{th}$ success occurs on the $x^{th}$ trial $(x > k)$ is governed by the *negative binomial distribution* with a $p.m.f$: $$f_x(x; k, p) = \\binom{x-1}{k-1}p^kq^{x-k}$$ |"
   ]
  },
  {
   "cell_type": "markdown",
   "metadata": {},
   "source": [
    "### Poisson Distribution\n",
    "\n",
    "There is one last distribution we must include with our discussion of discrete random variables... but note, it's a bit of a 'trick'. As hydrologists, or even most earth system scientists in general, our interests are in continuous processes, not discrete processes. We may want to know, at any time, when might we expect a discharge exceeding a certain limit. Or where is the soil moisture along a gradient likely to be a certain value. These space-time problems could be modeled with a Bernoulli sequence if we allow the interval of time (or space) to become small enough and assume that within each interval it is a binomial event (occurs / doesn't occur). But if the event may occur more than once within any given interval of time (or space), then it is better modeled using a **Poisson Process**.\n",
    "\n",
    "\n",
    "\n",
    "Assumptions for poisson distribution | \n",
    "------------ |\n",
    "1. An event may occur at any time or any point in space |\n",
    "2.The occurrence(s) of an event in a given time (or space) interval is independent of that in any other nonoverlapping intervals |\n",
    "3. The probability of occurrence of an event in a small interaval $\\Delta t$ is proportional to $\\Delta t$, and can be given by $\\gamma \\Delta t$, where $\\gamma$ is the mean rate of occurrence of the event (assumed constant); and the probability of two or more occurrences in $\\Delta t$ is negligible. We can model this with: $$P(X=x) = f_x(x; \\gamma) = {(\\gamma t)^x\\over x!} e^{-\\gamma t} $$ |\n",
    "\n",
    "\n",
    "The trick is that we've essentially compressed the Bernoulli process interval.\n",
    "\n",
    "Let's repeat everything one more time. Consider a Bernoulli process defined over an interval of time (or space) so that $p$ is the probability that an event may occur during the time interval. If the time interval is allowed to become shorter and shorter so that the probability, $p$, of an event occurring in the interval gets smaller and smaller and the number of trials, $n$, increases in such as fashion that $np$ remains constant, then the expected number of occurrence in any total time interval remains the same.\n",
    "\n",
    "The $p.m.f.$ has the general form:\n",
    "\n",
    "$$P(X=x) = f_x(x; \\gamma) = {(\\gamma t)^x\\over x!} e^{-\\gamma t} $$\n",
    "\n",
    "Where $x$ is the event number and $p$ is the probability of one success, and $\\gamma$ is *mean occurrence rate*. \n",
    "\n",
    "The $E(X_t)$ is given by:\n",
    "\n",
    "$$ E(X_t) = \\gamma t$$\n",
    "\n",
    "and:\n",
    "\n",
    "$$Var(X) = \\gamma t$$\n",
    "\n",
    "Now, let's keep decreasing the intervals and assume $\\lambda = \\gamma t$, then we can model this Bernoulli process as a *Poisson sequence* which is computationally favorable. We have defined a new variable, the Poisson parameter. With this, we derive this in the following way:\n",
    "\n",
    "First, assume $\\lambda$ is the *average number of events in time $t$ *. If an event can occurr at any point in time, then as $n \\to \\inf$:\n",
    "\n",
    "$P$($x$ events in $t$)\n",
    "\n",
    "\n",
    "$$= \\lim_{n\\to\\inf} \\binom n x \\binom{\\lambda}{n}^x \\left (1- \\lambda / n \\right)^{n-x} $$\n",
    "\n",
    "$$= \\lim_{n\\to\\inf} \\left [ {n! \\over x!(n-x)} \\binom{\\lambda}{n}^x \\left (1- \\lambda / n \\right)^{n-x} \\right]$$\n",
    "\n",
    "$$= \\lim_{n\\to\\inf} \\left [ {n \\over n} \\cdot {(n-1) \\over n} \\cdot \\dotsb {(n - x + 1) \\over n} \\cdot {\\lambda ^x \\over x!} \\left (1- \\lambda / n \\right)^{n}\\left (1- \\lambda / n \\right)^{-x} \\right]$$\n",
    "\n",
    "But, we know:\n",
    "\n",
    "$$ \\lim_{n\\to\\inf}(1 - {\\lambda \\over n})^n  = 1 - \\lambda + {\\lambda^2 \\over 2!} - {\\lambda^3 \\over 3!} + \\dotsb = e^{-\\lambda} $$\n",
    "\n",
    "So we can see that the limit yeilds, \n",
    "\n",
    "$$P (x \\quad events \\quad in \\quad t) = {\\lambda^x \\over x!} e^{-\\lambda}$$\n",
    "\n",
    "Which is the Poisson distribution.\n",
    "\n",
    "\n",
    "### Examples\n",
    "*Compendium examples 3.12 & 3.13*\n",
    "Calculate the probability that a 100-year flood will occur once in 20 years.\n",
    "\n",
    "**Solution**\n",
    "\n",
    "__Binomial__: $f_x(x; n, p) = f_x(1; 20, 0.1) = \\binom{20}{1} \\cdot 0.01^1 \\cdot 0.99^19 = 0.16$\n",
    "\n",
    "__Poisson__: $f_x(x; \\gamma) = f_x(1; 0.2) = 0.2^1 e^{-0.2} / 1! \\approx 0.16$\n",
    "\n",
    "Calculate the probability that a 2-year flodd will occur five times in ten years.\n",
    "\n",
    "__Binomial__: $f_x(x; n, p) = f_x(5; 10, 0.5) = \\binom{10}{5} \\cdot 0.5^5 \\cdot 0.5^5 = 0.246$\n",
    "\n",
    "__Poisson__: $f_x(x; \\gamma) = f_x(5; 0.5) = 0.5^5 e^{-5} / 5! = 0.176$\n",
    "\n",
    "In the latter case the probability $p$ is not sufficiently small, and $n$ is not larger. We need to use the true binomial distribution here.\n",
    "\n"
   ]
  },
  {
   "cell_type": "markdown",
   "metadata": {},
   "source": [
    "#### References / Notes\n",
    "\n",
    "Concepts and Examples are based on\n",
    "\n",
    "1. [Ang H-S.A., Tang W.H.; Probability Concepts in Engineering Planning and Design, Volume 1: Basic Principles](http://books.google.no/books/about/Probability_Concepts_in_Engineering_Plan.html?id=EIRRAAAAMAAJ&redir_esc=y)\n",
    "2. Haan, C.; Statistical Methods in Hydrology 2nd. Edition. \n"
   ]
  },
  {
   "cell_type": "markdown",
   "metadata": {},
   "source": [
    "### Coda\n",
    "__Course__: GEO4310 Statistical and Stochastic Hydrology, University of Oslo\n",
    "\n",
    "__Contributions__\n",
    "\n",
    "* John F. Burkhart, 6. September 2014 --\n",
    "\n",
    "__License__\n",
    "\n",
    "[Creative Commons Attribution-ShareAlike 4.0 International Public License](https://creativecommons.org/licenses/by-sa/4.0/legalcode)\n"
   ]
  }
 ],
 "metadata": {
  "kernelspec": {
   "display_name": "Python [conda env:shyft]",
   "language": "python",
   "name": "conda-env-shyft-py"
  },
  "language_info": {
   "codemirror_mode": {
    "name": "ipython",
    "version": 3
   },
   "file_extension": ".py",
   "mimetype": "text/x-python",
   "name": "python",
   "nbconvert_exporter": "python",
   "pygments_lexer": "ipython3",
   "version": "3.5.3"
  }
 },
 "nbformat": 4,
 "nbformat_minor": 1
}
